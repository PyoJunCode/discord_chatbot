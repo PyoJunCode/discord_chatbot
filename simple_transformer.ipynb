{
  "nbformat": 4,
  "nbformat_minor": 0,
  "metadata": {
    "colab": {
      "name": "model_module.ipynb",
      "provenance": [],
      "collapsed_sections": []
    },
    "kernelspec": {
      "display_name": "Python 3",
      "language": "python",
      "name": "python3"
    },
    "language_info": {
      "codemirror_mode": {
        "name": "ipython",
        "version": 3
      },
      "file_extension": ".py",
      "mimetype": "text/x-python",
      "name": "python",
      "nbconvert_exporter": "python",
      "pygments_lexer": "ipython3",
      "version": "3.9.2"
    },
    "accelerator": "GPU"
  },
  "cells": [
    {
      "cell_type": "code",
      "metadata": {
        "colab": {
          "base_uri": "https://localhost:8080/"
        },
        "id": "CrE6KJw1_yn_",
        "outputId": "4c2f596c-a9e1-4254-ebab-dec30a2aac44"
      },
      "source": [
        "from google.colab import drive\n",
        "drive.mount('/content/drive')"
      ],
      "execution_count": 1,
      "outputs": [
        {
          "output_type": "stream",
          "text": [
            "Mounted at /content/drive\n"
          ],
          "name": "stdout"
        }
      ]
    },
    {
      "cell_type": "code",
      "metadata": {
        "colab": {
          "base_uri": "https://localhost:8080/"
        },
        "id": "tRp5xay9N19W",
        "scrolled": false,
        "outputId": "9d5b3ebb-a3e7-4f94-ae47-4bb9ea19a795"
      },
      "source": [
        "%cd /content/drive/MyDrive/discord_chatbot/"
      ],
      "execution_count": 2,
      "outputs": [
        {
          "output_type": "stream",
          "text": [
            "/content/drive/MyDrive/discord_chatbot\n"
          ],
          "name": "stdout"
        }
      ]
    },
    {
      "cell_type": "code",
      "metadata": {
        "id": "QDLf-KH-AMsr"
      },
      "source": [
        "import pandas as pd\n",
        "import numpy as np\n",
        "import matplotlib.pyplot as plt\n",
        "import re\n",
        "import urllib.request\n",
        "import time\n",
        "import tensorflow.compat.v1 as tf\n",
        "import tensorflow_datasets as tfds\n",
        "from tensorflow import keras\n",
        "import keras as k\n",
        "import sys\n",
        "from sklearn.model_selection import train_test_split\n",
        "import os"
      ],
      "execution_count": 3,
      "outputs": []
    },
    {
      "cell_type": "code",
      "metadata": {
        "id": "7-hdzIEjDVZL"
      },
      "source": [
        "dataset = pd.read_csv('ChatbotData.csv')"
      ],
      "execution_count": 4,
      "outputs": []
    },
    {
      "cell_type": "code",
      "metadata": {
        "id": "2s0Kv-coG945"
      },
      "source": [
        "dataset = dataset.drop('A', axis=1)\n",
        "dataset = dataset.dropna()"
      ],
      "execution_count": 5,
      "outputs": []
    },
    {
      "cell_type": "code",
      "metadata": {
        "id": "ivwkaw-SZLws"
      },
      "source": [
        "X=dataset['Q']\n",
        "y=dataset['label']"
      ],
      "execution_count": 6,
      "outputs": []
    },
    {
      "cell_type": "code",
      "metadata": {
        "id": "pyZ9-BIUZP35"
      },
      "source": [
        "X_train, X_val, y_train, y_val = train_test_split(X, y, test_size=0.3, random_state=42)"
      ],
      "execution_count": 7,
      "outputs": []
    },
    {
      "cell_type": "code",
      "metadata": {
        "colab": {
          "base_uri": "https://localhost:8080/"
        },
        "id": "1c6FeNPKHEqT",
        "outputId": "5a701137-6471-493f-c29d-131c5f50002b"
      },
      "source": [
        "X_train.head()"
      ],
      "execution_count": 8,
      "outputs": [
        {
          "output_type": "execute_result",
          "data": {
            "text/plain": [
              "6746                       숨어서 보기.\n",
              "58                     감미로운 목소리 좋아\n",
              "5155              혼자 있으니까 혼자 할게 많네\n",
              "2865    아무리 열심히 해도 선천적인 건 못 따라가겠지?\n",
              "3721                   이사하는 것도 일이다\n",
              "Name: Q, dtype: object"
            ]
          },
          "metadata": {
            "tags": []
          },
          "execution_count": 8
        }
      ]
    },
    {
      "cell_type": "code",
      "metadata": {
        "colab": {
          "base_uri": "https://localhost:8080/"
        },
        "id": "O4WU388SZ7xu",
        "outputId": "9c657d86-fa5c-48c0-93c0-f0eb72c97619"
      },
      "source": [
        "print(max(len(each) for each in X_train))\n",
        "print(max(len(each) for each in X_val))"
      ],
      "execution_count": 9,
      "outputs": [
        {
          "output_type": "stream",
          "text": [
            "56\n",
            "51\n"
          ],
          "name": "stdout"
        }
      ]
    },
    {
      "cell_type": "code",
      "metadata": {
        "id": "dkXAZLkSaVOT"
      },
      "source": [
        ""
      ],
      "execution_count": 9,
      "outputs": []
    },
    {
      "cell_type": "code",
      "metadata": {
        "colab": {
          "base_uri": "https://localhost:8080/"
        },
        "id": "KO0ZdBkARyjc",
        "outputId": "8bf9463c-f49f-437d-f3bb-7b17f972606c"
      },
      "source": [
        "X_train.shape"
      ],
      "execution_count": 10,
      "outputs": [
        {
          "output_type": "execute_result",
          "data": {
            "text/plain": [
              "(8276,)"
            ]
          },
          "metadata": {
            "tags": []
          },
          "execution_count": 10
        }
      ]
    },
    {
      "cell_type": "code",
      "metadata": {
        "id": "3uLJIUdAHZhg"
      },
      "source": [
        "def insert_space(input):\n",
        "  questions = []\n",
        "  for sentence in input:\n",
        "      sentence = re.sub(r\"([?.!,])\", r\" \\1 \", sentence)\n",
        "      sentence = sentence.strip()\n",
        "      questions.append(sentence)\n",
        "  return questions"
      ],
      "execution_count": 11,
      "outputs": []
    },
    {
      "cell_type": "code",
      "metadata": {
        "id": "L1cTmBhRl26P"
      },
      "source": [
        "X_train = insert_space(X_train)\n",
        "X_val = insert_space(X_val)"
      ],
      "execution_count": 12,
      "outputs": []
    },
    {
      "cell_type": "code",
      "metadata": {
        "id": "JAHSRc7nbU-l"
      },
      "source": [
        "tokenizer = tfds.deprecated.text.SubwordTextEncoder.build_from_corpus(\n",
        "    X_train, target_vocab_size=2**13)"
      ],
      "execution_count": 13,
      "outputs": []
    },
    {
      "cell_type": "code",
      "metadata": {
        "id": "x_oiZlF6bXz4"
      },
      "source": [
        "\n",
        "START_TOKEN, END_TOKEN = [tokenizer.vocab_size], [tokenizer.vocab_size + 1]\n",
        "\n",
        "VOCAB_SIZE = tokenizer.vocab_size + 2"
      ],
      "execution_count": 14,
      "outputs": []
    },
    {
      "cell_type": "code",
      "metadata": {
        "id": "McgTt-AEbg4v"
      },
      "source": [
        "\n",
        "MAX_LENGTH = 128\n",
        "\n",
        "def tokenize_and_filter(inputs):\n",
        "  tokenized_inputs= []\n",
        "\n",
        "  for sentence in inputs:\n",
        "    sentence = START_TOKEN + tokenizer.encode(sentence) + END_TOKEN\n",
        "    tokenized_inputs.append(sentence)\n",
        "\n",
        "\n",
        "  tokenized_inputs = tf.keras.preprocessing.sequence.pad_sequences(\n",
        "      tokenized_inputs, maxlen=MAX_LENGTH, padding='post')\n",
        "\n",
        "  return tokenized_inputs"
      ],
      "execution_count": 15,
      "outputs": []
    },
    {
      "cell_type": "code",
      "metadata": {
        "id": "TcYXE6Cncxf_"
      },
      "source": [
        "X_train = tokenize_and_filter(X_train)\n",
        "X_val =tokenize_and_filter(X_val)"
      ],
      "execution_count": 16,
      "outputs": []
    },
    {
      "cell_type": "code",
      "metadata": {
        "id": "D7AGq7yDQuLA"
      },
      "source": [
        "class TokenAndPositionEmbedding(tf.keras.layers.Layer):\n",
        "    def __init__(self, max_len, vocab_size, embedding_dim):\n",
        "        super(TokenAndPositionEmbedding, self).__init__()\n",
        "        self.token_emb = tf.keras.layers.Embedding(vocab_size, embedding_dim)\n",
        "        self.pos_emb = tf.keras.layers.Embedding(max_len, embedding_dim)\n",
        "\n",
        "    def call(self, x):\n",
        "        max_len = tf.shape(x)[-1]\n",
        "        positions = tf.range(start=0, limit=max_len, delta=1)\n",
        "        positions = self.pos_emb(positions)\n",
        "        x = self.token_emb(x)\n",
        "        return x + positions"
      ],
      "execution_count": 17,
      "outputs": []
    },
    {
      "cell_type": "code",
      "metadata": {
        "id": "mU4ojuIaZ2vB"
      },
      "source": [
        "max_len = 128\n",
        "vocab_size = 20000"
      ],
      "execution_count": 18,
      "outputs": []
    },
    {
      "cell_type": "code",
      "metadata": {
        "id": "V6KZpPAfdYAU"
      },
      "source": [
        "class MultiHeadAttention(tf.keras.layers.Layer):\n",
        "    def __init__(self, embedding_dim, num_heads=8):\n",
        "        super(MultiHeadAttention, self).__init__()\n",
        "        self.embedding_dim = embedding_dim # d_model\n",
        "        self.num_heads = num_heads\n",
        "\n",
        "        assert embedding_dim % self.num_heads == 0\n",
        "\n",
        "        self.projection_dim = embedding_dim // num_heads\n",
        "        self.query_dense = tf.keras.layers.Dense(embedding_dim)\n",
        "        self.key_dense = tf.keras.layers.Dense(embedding_dim)\n",
        "        self.value_dense = tf.keras.layers.Dense(embedding_dim)\n",
        "        self.dense = tf.keras.layers.Dense(embedding_dim)\n",
        "\n",
        "    def scaled_dot_product_attention(self, query, key, value):\n",
        "        matmul_qk = tf.matmul(query, key, transpose_b=True)\n",
        "        depth = tf.cast(tf.shape(key)[-1], tf.float32)\n",
        "        logits = matmul_qk / tf.math.sqrt(depth)\n",
        "        attention_weights = tf.nn.softmax(logits, axis=-1)\n",
        "        output = tf.matmul(attention_weights, value)\n",
        "        return output, attention_weights\n",
        "\n",
        "    def split_heads(self, x, batch_size):\n",
        "        x = tf.reshape(x, (batch_size, -1, self.num_heads, self.projection_dim))\n",
        "        return tf.transpose(x, perm=[0, 2, 1, 3])\n",
        "\n",
        "    def call(self, inputs):\n",
        "        # x.shape = [batch_size, seq_len, embedding_dim]\n",
        "        batch_size = tf.shape(inputs)[0]\n",
        "\n",
        "        # (batch_size, seq_len, embedding_dim)\n",
        "        query = self.query_dense(inputs)\n",
        "        key = self.key_dense(inputs)\n",
        "        value = self.value_dense(inputs)\n",
        "\n",
        "        # (batch_size, num_heads, seq_len, projection_dim)\n",
        "        query = self.split_heads(query, batch_size)  \n",
        "        key = self.split_heads(key, batch_size)\n",
        "        value = self.split_heads(value, batch_size)\n",
        "\n",
        "        scaled_attention, _ = self.scaled_dot_product_attention(query, key, value)\n",
        "        # (batch_size, seq_len, num_heads, projection_dim)\n",
        "        scaled_attention = tf.transpose(scaled_attention, perm=[0, 2, 1, 3])  \n",
        "\n",
        "        # (batch_size, seq_len, embedding_dim)\n",
        "        concat_attention = tf.reshape(scaled_attention, (batch_size, -1, self.embedding_dim))\n",
        "        outputs = self.dense(concat_attention)\n",
        "        return outputs"
      ],
      "execution_count": 19,
      "outputs": []
    },
    {
      "cell_type": "code",
      "metadata": {
        "id": "uP7n8Ak1dWr-"
      },
      "source": [
        "class TransformerBlock(tf.keras.layers.Layer):\n",
        "    def __init__(self, embedding_dim, num_heads, dff, rate=0.1):\n",
        "        super(TransformerBlock, self).__init__()\n",
        "        self.att = MultiHeadAttention(embedding_dim, num_heads)\n",
        "        self.ffn = tf.keras.Sequential(\n",
        "            [tf.keras.layers.Dense(dff, activation=\"relu\"),\n",
        "             tf.keras.layers.Dense(embedding_dim),]\n",
        "        )\n",
        "        self.layernorm1 = tf.keras.layers.LayerNormalization(epsilon=1e-6)\n",
        "        self.layernorm2 = tf.keras.layers.LayerNormalization(epsilon=1e-6)\n",
        "        self.dropout1 = tf.keras.layers.Dropout(rate)\n",
        "        self.dropout2 = tf.keras.layers.Dropout(rate)\n",
        "\n",
        "    def call(self, inputs, training):\n",
        "        attn_output = self.att(inputs) # 첫번째 서브층 : 멀티 헤드 어텐션\n",
        "        attn_output = self.dropout1(attn_output, training=training)\n",
        "        out1 = self.layernorm1(inputs + attn_output) # Add & Norm\n",
        "        ffn_output = self.ffn(out1) # 두번째 서브층 : 포지션 와이즈 피드 포워드 신경망\n",
        "        ffn_output = self.dropout2(ffn_output, training=training)\n",
        "        return self.layernorm2(out1 + ffn_output) # Add & Norm"
      ],
      "execution_count": 20,
      "outputs": []
    },
    {
      "cell_type": "code",
      "metadata": {
        "id": "lkprGjsSZ1lC"
      },
      "source": [
        "embedding_dim = 256  # embedding_dims\n",
        "num_heads = 4  # attention head\n",
        "dff = 128  # position wide ff\n",
        "\n",
        "inputs = tf.keras.layers.Input(shape=(max_len,))\n",
        "embedding_layer = TokenAndPositionEmbedding(max_len, vocab_size, embedding_dim)\n",
        "x = embedding_layer(inputs)\n",
        "transformer_block = TransformerBlock(embedding_dim, num_heads, dff)\n",
        "x = transformer_block(x)\n",
        "x = tf.keras.layers.GlobalAveragePooling1D()(x)\n",
        "x = tf.keras.layers.Dropout(0.1)(x)\n",
        "x = tf.keras.layers.Dense(20, activation=\"relu\")(x)\n",
        "x = tf.keras.layers.Dropout(0.1)(x)\n",
        "outputs = tf.keras.layers.Dense(3, activation=\"softmax\")(x)\n",
        "\n",
        "\n",
        "\n",
        "model = tf.keras.Model(inputs=inputs, outputs=outputs)"
      ],
      "execution_count": 21,
      "outputs": []
    },
    {
      "cell_type": "code",
      "metadata": {
        "colab": {
          "base_uri": "https://localhost:8080/"
        },
        "id": "GKAChYzJdQo0",
        "outputId": "bf11dac2-73c5-40ec-d8a2-7b409659f9d8"
      },
      "source": [
        "model.compile(\"adam\", \"sparse_categorical_crossentropy\", metrics=[\"accuracy\"])\n",
        "history = model.fit(X_train, y_train, batch_size=32, epochs=10)"
      ],
      "execution_count": 22,
      "outputs": [
        {
          "output_type": "stream",
          "text": [
            "Epoch 1/10\n",
            "259/259 [==============================] - 20s 61ms/step - loss: 1.0561 - accuracy: 0.4583\n",
            "Epoch 2/10\n",
            "259/259 [==============================] - 16s 61ms/step - loss: 0.7537 - accuracy: 0.6492\n",
            "Epoch 3/10\n",
            "259/259 [==============================] - 16s 60ms/step - loss: 0.4609 - accuracy: 0.8248\n",
            "Epoch 4/10\n",
            "259/259 [==============================] - 16s 61ms/step - loss: 0.2773 - accuracy: 0.9117\n",
            "Epoch 5/10\n",
            "259/259 [==============================] - 16s 61ms/step - loss: 0.1705 - accuracy: 0.9422\n",
            "Epoch 6/10\n",
            "259/259 [==============================] - 16s 60ms/step - loss: 0.1296 - accuracy: 0.9570\n",
            "Epoch 7/10\n",
            "259/259 [==============================] - 16s 61ms/step - loss: 0.0901 - accuracy: 0.9687\n",
            "Epoch 8/10\n",
            "259/259 [==============================] - 16s 60ms/step - loss: 0.0714 - accuracy: 0.9734\n",
            "Epoch 9/10\n",
            "259/259 [==============================] - 16s 61ms/step - loss: 0.0517 - accuracy: 0.9815\n",
            "Epoch 10/10\n",
            "259/259 [==============================] - 16s 61ms/step - loss: 0.0545 - accuracy: 0.9802\n"
          ],
          "name": "stdout"
        }
      ]
    },
    {
      "cell_type": "code",
      "metadata": {
        "colab": {
          "base_uri": "https://localhost:8080/"
        },
        "id": "r7eLQNiXdk7D",
        "outputId": "fc010ab0-2d48-4cb8-a48b-2b9f10ce1ff2"
      },
      "source": [
        "loss, acc = model.evaluate(X_val,y_val)"
      ],
      "execution_count": 23,
      "outputs": [
        {
          "output_type": "stream",
          "text": [
            "111/111 [==============================] - 1s 8ms/step - loss: 1.6666 - accuracy: 0.7584\n"
          ],
          "name": "stdout"
        }
      ]
    },
    {
      "cell_type": "code",
      "metadata": {
        "colab": {
          "base_uri": "https://localhost:8080/"
        },
        "id": "RHVXoxndj9wc",
        "outputId": "93922980-463a-4537-9fa3-9a13d46805e2"
      },
      "source": [
        "print(f'loss: {loss}, acc: {acc}')"
      ],
      "execution_count": 24,
      "outputs": [
        {
          "output_type": "stream",
          "text": [
            "loss: 1.6666259765625, acc: 0.7583873867988586\n"
          ],
          "name": "stdout"
        }
      ]
    },
    {
      "cell_type": "code",
      "metadata": {
        "id": "YVCXQcOjplXM"
      },
      "source": [
        "def evaluate(sentence):\n",
        "  sentence = preprocess_sentence(sentence)\n",
        "\n",
        "  sentence = tf.expand_dims(\n",
        "      START_TOKEN + tokenizer.encode(sentence) + END_TOKEN, axis=0)\n",
        "  \n",
        "  sentence = tf.keras.preprocessing.sequence.pad_sequences(\n",
        "      sentence, maxlen=MAX_LENGTH, padding='post')\n",
        "\n",
        "  return model.predict(sentence)\n"
      ],
      "execution_count": 25,
      "outputs": []
    },
    {
      "cell_type": "code",
      "metadata": {
        "id": "ZNKDBp7Wql2z"
      },
      "source": [
        "def predict(sentence):\n",
        "\n",
        "  sentence = preprocess_sentence(sentence)\n",
        "\n",
        "  sentence = tf.expand_dims(\n",
        "      START_TOKEN + tokenizer.encode(sentence) + END_TOKEN, axis=0)\n",
        "  \n",
        "  sentence = tf.keras.preprocessing.sequence.pad_sequences(\n",
        "      sentence, maxlen=MAX_LENGTH, padding='post')\n",
        "  print(sentence)\n",
        "\n",
        "  return np.argmax(model.predict(sentence))"
      ],
      "execution_count": 26,
      "outputs": []
    },
    {
      "cell_type": "code",
      "metadata": {
        "id": "2K6Wx0JEqe52"
      },
      "source": [
        "def preprocess_sentence(sentence):\n",
        "  sentence = re.sub(r\"([?.!,])\", r\" \\1 \", sentence)\n",
        "  sentence = sentence.strip()\n",
        "  return sentence"
      ],
      "execution_count": 27,
      "outputs": []
    },
    {
      "cell_type": "code",
      "metadata": {
        "colab": {
          "base_uri": "https://localhost:8080/"
        },
        "id": "30Qa8PSBqeyT",
        "outputId": "f4ef639b-08fe-4d78-c8ac-1c716aa7fa5b"
      },
      "source": [
        "print(predict('오늘 우울하네요'))"
      ],
      "execution_count": 28,
      "outputs": [
        {
          "output_type": "stream",
          "text": [
            "[[6687   29 4393 3190 6688    0    0    0    0    0    0    0    0    0\n",
            "     0    0    0    0    0    0    0    0    0    0    0    0    0    0\n",
            "     0    0    0    0    0    0    0    0    0    0    0    0    0    0\n",
            "     0    0    0    0    0    0    0    0    0    0    0    0    0    0\n",
            "     0    0    0    0    0    0    0    0    0    0    0    0    0    0\n",
            "     0    0    0    0    0    0    0    0    0    0    0    0    0    0\n",
            "     0    0    0    0    0    0    0    0    0    0    0    0    0    0\n",
            "     0    0    0    0    0    0    0    0    0    0    0    0    0    0\n",
            "     0    0    0    0    0    0    0    0    0    0    0    0    0    0\n",
            "     0    0]]\n",
            "1\n"
          ],
          "name": "stdout"
        }
      ]
    },
    {
      "cell_type": "code",
      "metadata": {
        "colab": {
          "base_uri": "https://localhost:8080/"
        },
        "id": "XxgyiGiAqpA3",
        "outputId": "c7cd8730-7c0e-4df9-eb29-44950b539fa7"
      },
      "source": [
        "def make_directory(target_path):\n",
        "  if not os.path.exists(target_path):\n",
        "    os.mkdir(target_path)\n",
        "    print('Directory ', target_path, ' Created ')\n",
        "  else:\n",
        "    print('Directory ', target_path, ' already exists')\n",
        "\n",
        "SAVED_MODEL_PATH = './saved_model'\n",
        "make_directory(SAVED_MODEL_PATH)\n",
        "MODEL_DIR = SAVED_MODEL_PATH\n",
        "\n",
        "version = 1\n",
        "export_path = os.path.join(MODEL_DIR, str(version))\n",
        "print('export_path = {}\\n'.format(export_path))\n",
        "\n",
        "tf.keras.models.save_model(\n",
        "  model,\n",
        "  export_path,\n",
        "  overwrite=True,\n",
        "  include_optimizer=True,\n",
        "  save_format=None,\n",
        "  signatures=None,\n",
        "  options=None\n",
        ")\n",
        "print('\\nSaved model:')"
      ],
      "execution_count": 29,
      "outputs": [
        {
          "output_type": "stream",
          "text": [
            "Directory  ./saved_model  already exists\n",
            "export_path = ./saved_model/1\n",
            "\n"
          ],
          "name": "stdout"
        },
        {
          "output_type": "stream",
          "text": [
            "WARNING:absl:Found untraced functions such as embedding_layer_call_fn, embedding_layer_call_and_return_conditional_losses, embedding_1_layer_call_fn, embedding_1_layer_call_and_return_conditional_losses, multi_head_attention_layer_call_fn while saving (showing 5 of 55). These functions will not be directly callable after loading.\n"
          ],
          "name": "stderr"
        },
        {
          "output_type": "stream",
          "text": [
            "INFO:tensorflow:Assets written to: ./saved_model/1/assets\n"
          ],
          "name": "stdout"
        },
        {
          "output_type": "stream",
          "text": [
            "INFO:tensorflow:Assets written to: ./saved_model/1/assets\n"
          ],
          "name": "stderr"
        },
        {
          "output_type": "stream",
          "text": [
            "\n",
            "Saved model:\n"
          ],
          "name": "stdout"
        }
      ]
    },
    {
      "cell_type": "code",
      "metadata": {
        "id": "gUlNdFrv3r3i"
      },
      "source": [
        "ltokenizer = tfds.deprecated.text.SubwordTextEncoder.load_from_file('tokenizer')"
      ],
      "execution_count": 30,
      "outputs": []
    },
    {
      "cell_type": "code",
      "metadata": {
        "id": "uW-KgW4-lH43"
      },
      "source": [
        "def encoding(sentence):\n",
        "\n",
        "    sentence = preprocess_sentence(sentence)\n",
        "\n",
        "    sentence = tf.expand_dims(\n",
        "      START_TOKEN + tokenizer.encode(sentence) + END_TOKEN, axis=0)\n",
        "  \n",
        "    sentence = tf.keras.preprocessing.sequence.pad_sequences(\n",
        "      sentence, maxlen=MAX_LENGTH, padding='post')\n",
        "\n",
        "    return sentence"
      ],
      "execution_count": 31,
      "outputs": []
    },
    {
      "cell_type": "code",
      "metadata": {
        "id": "y9OmAi_olH44"
      },
      "source": [
        ""
      ],
      "execution_count": null,
      "outputs": []
    }
  ]
}